{
  "nbformat": 4,
  "nbformat_minor": 0,
  "metadata": {
    "colab": {
      "name": "df_subsetting.ipynb",
      "provenance": [],
      "authorship_tag": "ABX9TyM4u0ipX1ZnrAJ4w39RGX55"
    },
    "kernelspec": {
      "name": "python3",
      "display_name": "Python 3"
    }
  },
  "cells": [
    {
      "cell_type": "code",
      "metadata": {
        "id": "N_tjh_3fZMhK"
      },
      "source": [
        "import pandas as pd\n",
        "import numpy as np"
      ],
      "execution_count": null,
      "outputs": []
    },
    {
      "cell_type": "code",
      "metadata": {
        "id": "jX4aSX3mZV-k"
      },
      "source": [
        "df = pd.DataFrame(np.random.randn(10, 4))"
      ],
      "execution_count": null,
      "outputs": []
    },
    {
      "cell_type": "code",
      "metadata": {
        "id": "_k-FxefWZWPz",
        "outputId": "74c39464-213d-433a-d8ea-0783d8a89924",
        "colab": {
          "base_uri": "https://localhost:8080/",
          "height": 362
        }
      },
      "source": [
        "df"
      ],
      "execution_count": null,
      "outputs": [
        {
          "output_type": "execute_result",
          "data": {
            "text/html": [
              "<div>\n",
              "<style scoped>\n",
              "    .dataframe tbody tr th:only-of-type {\n",
              "        vertical-align: middle;\n",
              "    }\n",
              "\n",
              "    .dataframe tbody tr th {\n",
              "        vertical-align: top;\n",
              "    }\n",
              "\n",
              "    .dataframe thead th {\n",
              "        text-align: right;\n",
              "    }\n",
              "</style>\n",
              "<table border=\"1\" class=\"dataframe\">\n",
              "  <thead>\n",
              "    <tr style=\"text-align: right;\">\n",
              "      <th></th>\n",
              "      <th>0</th>\n",
              "      <th>1</th>\n",
              "      <th>2</th>\n",
              "      <th>3</th>\n",
              "    </tr>\n",
              "  </thead>\n",
              "  <tbody>\n",
              "    <tr>\n",
              "      <th>0</th>\n",
              "      <td>-0.953957</td>\n",
              "      <td>-0.145949</td>\n",
              "      <td>2.145194</td>\n",
              "      <td>0.325197</td>\n",
              "    </tr>\n",
              "    <tr>\n",
              "      <th>1</th>\n",
              "      <td>1.766116</td>\n",
              "      <td>1.568794</td>\n",
              "      <td>0.665628</td>\n",
              "      <td>0.223393</td>\n",
              "    </tr>\n",
              "    <tr>\n",
              "      <th>2</th>\n",
              "      <td>-0.131197</td>\n",
              "      <td>-0.978466</td>\n",
              "      <td>-0.603898</td>\n",
              "      <td>0.344533</td>\n",
              "    </tr>\n",
              "    <tr>\n",
              "      <th>3</th>\n",
              "      <td>-0.502081</td>\n",
              "      <td>-0.016002</td>\n",
              "      <td>-1.080537</td>\n",
              "      <td>1.038217</td>\n",
              "    </tr>\n",
              "    <tr>\n",
              "      <th>4</th>\n",
              "      <td>0.551330</td>\n",
              "      <td>-1.430087</td>\n",
              "      <td>0.791471</td>\n",
              "      <td>-2.286282</td>\n",
              "    </tr>\n",
              "    <tr>\n",
              "      <th>5</th>\n",
              "      <td>0.711356</td>\n",
              "      <td>-0.664951</td>\n",
              "      <td>-1.121766</td>\n",
              "      <td>-0.122777</td>\n",
              "    </tr>\n",
              "    <tr>\n",
              "      <th>6</th>\n",
              "      <td>1.357047</td>\n",
              "      <td>0.591635</td>\n",
              "      <td>-0.487670</td>\n",
              "      <td>0.996917</td>\n",
              "    </tr>\n",
              "    <tr>\n",
              "      <th>7</th>\n",
              "      <td>-1.995902</td>\n",
              "      <td>1.229053</td>\n",
              "      <td>-0.245736</td>\n",
              "      <td>0.207742</td>\n",
              "    </tr>\n",
              "    <tr>\n",
              "      <th>8</th>\n",
              "      <td>-1.150965</td>\n",
              "      <td>3.133243</td>\n",
              "      <td>0.072859</td>\n",
              "      <td>1.473219</td>\n",
              "    </tr>\n",
              "    <tr>\n",
              "      <th>9</th>\n",
              "      <td>2.585600</td>\n",
              "      <td>0.756818</td>\n",
              "      <td>-0.848721</td>\n",
              "      <td>-0.860181</td>\n",
              "    </tr>\n",
              "  </tbody>\n",
              "</table>\n",
              "</div>"
            ],
            "text/plain": [
              "          0         1         2         3\n",
              "0 -0.953957 -0.145949  2.145194  0.325197\n",
              "1  1.766116  1.568794  0.665628  0.223393\n",
              "2 -0.131197 -0.978466 -0.603898  0.344533\n",
              "3 -0.502081 -0.016002 -1.080537  1.038217\n",
              "4  0.551330 -1.430087  0.791471 -2.286282\n",
              "5  0.711356 -0.664951 -1.121766 -0.122777\n",
              "6  1.357047  0.591635 -0.487670  0.996917\n",
              "7 -1.995902  1.229053 -0.245736  0.207742\n",
              "8 -1.150965  3.133243  0.072859  1.473219\n",
              "9  2.585600  0.756818 -0.848721 -0.860181"
            ]
          },
          "metadata": {
            "tags": []
          },
          "execution_count": 4
        }
      ]
    },
    {
      "cell_type": "code",
      "metadata": {
        "id": "SlEO49YpZWUP",
        "outputId": "12719a68-2be4-4efd-87fd-4c308c770882",
        "colab": {
          "base_uri": "https://localhost:8080/",
          "height": 112
        }
      },
      "source": [
        "df[-2:]"
      ],
      "execution_count": null,
      "outputs": [
        {
          "output_type": "execute_result",
          "data": {
            "text/html": [
              "<div>\n",
              "<style scoped>\n",
              "    .dataframe tbody tr th:only-of-type {\n",
              "        vertical-align: middle;\n",
              "    }\n",
              "\n",
              "    .dataframe tbody tr th {\n",
              "        vertical-align: top;\n",
              "    }\n",
              "\n",
              "    .dataframe thead th {\n",
              "        text-align: right;\n",
              "    }\n",
              "</style>\n",
              "<table border=\"1\" class=\"dataframe\">\n",
              "  <thead>\n",
              "    <tr style=\"text-align: right;\">\n",
              "      <th></th>\n",
              "      <th>0</th>\n",
              "      <th>1</th>\n",
              "      <th>2</th>\n",
              "      <th>3</th>\n",
              "    </tr>\n",
              "  </thead>\n",
              "  <tbody>\n",
              "    <tr>\n",
              "      <th>8</th>\n",
              "      <td>-1.150965</td>\n",
              "      <td>3.133243</td>\n",
              "      <td>0.072859</td>\n",
              "      <td>1.473219</td>\n",
              "    </tr>\n",
              "    <tr>\n",
              "      <th>9</th>\n",
              "      <td>2.585600</td>\n",
              "      <td>0.756818</td>\n",
              "      <td>-0.848721</td>\n",
              "      <td>-0.860181</td>\n",
              "    </tr>\n",
              "  </tbody>\n",
              "</table>\n",
              "</div>"
            ],
            "text/plain": [
              "          0         1         2         3\n",
              "8 -1.150965  3.133243  0.072859  1.473219\n",
              "9  2.585600  0.756818 -0.848721 -0.860181"
            ]
          },
          "metadata": {
            "tags": []
          },
          "execution_count": 6
        }
      ]
    },
    {
      "cell_type": "code",
      "metadata": {
        "id": "NzxK7-PjZdLO",
        "outputId": "39b215c8-76fb-4553-83ec-3b65e058b138",
        "colab": {
          "base_uri": "https://localhost:8080/",
          "height": 300
        }
      },
      "source": [
        "df[:-2]"
      ],
      "execution_count": null,
      "outputs": [
        {
          "output_type": "execute_result",
          "data": {
            "text/html": [
              "<div>\n",
              "<style scoped>\n",
              "    .dataframe tbody tr th:only-of-type {\n",
              "        vertical-align: middle;\n",
              "    }\n",
              "\n",
              "    .dataframe tbody tr th {\n",
              "        vertical-align: top;\n",
              "    }\n",
              "\n",
              "    .dataframe thead th {\n",
              "        text-align: right;\n",
              "    }\n",
              "</style>\n",
              "<table border=\"1\" class=\"dataframe\">\n",
              "  <thead>\n",
              "    <tr style=\"text-align: right;\">\n",
              "      <th></th>\n",
              "      <th>0</th>\n",
              "      <th>1</th>\n",
              "      <th>2</th>\n",
              "      <th>3</th>\n",
              "    </tr>\n",
              "  </thead>\n",
              "  <tbody>\n",
              "    <tr>\n",
              "      <th>0</th>\n",
              "      <td>-0.953957</td>\n",
              "      <td>-0.145949</td>\n",
              "      <td>2.145194</td>\n",
              "      <td>0.325197</td>\n",
              "    </tr>\n",
              "    <tr>\n",
              "      <th>1</th>\n",
              "      <td>1.766116</td>\n",
              "      <td>1.568794</td>\n",
              "      <td>0.665628</td>\n",
              "      <td>0.223393</td>\n",
              "    </tr>\n",
              "    <tr>\n",
              "      <th>2</th>\n",
              "      <td>-0.131197</td>\n",
              "      <td>-0.978466</td>\n",
              "      <td>-0.603898</td>\n",
              "      <td>0.344533</td>\n",
              "    </tr>\n",
              "    <tr>\n",
              "      <th>3</th>\n",
              "      <td>-0.502081</td>\n",
              "      <td>-0.016002</td>\n",
              "      <td>-1.080537</td>\n",
              "      <td>1.038217</td>\n",
              "    </tr>\n",
              "    <tr>\n",
              "      <th>4</th>\n",
              "      <td>0.551330</td>\n",
              "      <td>-1.430087</td>\n",
              "      <td>0.791471</td>\n",
              "      <td>-2.286282</td>\n",
              "    </tr>\n",
              "    <tr>\n",
              "      <th>5</th>\n",
              "      <td>0.711356</td>\n",
              "      <td>-0.664951</td>\n",
              "      <td>-1.121766</td>\n",
              "      <td>-0.122777</td>\n",
              "    </tr>\n",
              "    <tr>\n",
              "      <th>6</th>\n",
              "      <td>1.357047</td>\n",
              "      <td>0.591635</td>\n",
              "      <td>-0.487670</td>\n",
              "      <td>0.996917</td>\n",
              "    </tr>\n",
              "    <tr>\n",
              "      <th>7</th>\n",
              "      <td>-1.995902</td>\n",
              "      <td>1.229053</td>\n",
              "      <td>-0.245736</td>\n",
              "      <td>0.207742</td>\n",
              "    </tr>\n",
              "  </tbody>\n",
              "</table>\n",
              "</div>"
            ],
            "text/plain": [
              "          0         1         2         3\n",
              "0 -0.953957 -0.145949  2.145194  0.325197\n",
              "1  1.766116  1.568794  0.665628  0.223393\n",
              "2 -0.131197 -0.978466 -0.603898  0.344533\n",
              "3 -0.502081 -0.016002 -1.080537  1.038217\n",
              "4  0.551330 -1.430087  0.791471 -2.286282\n",
              "5  0.711356 -0.664951 -1.121766 -0.122777\n",
              "6  1.357047  0.591635 -0.487670  0.996917\n",
              "7 -1.995902  1.229053 -0.245736  0.207742"
            ]
          },
          "metadata": {
            "tags": []
          },
          "execution_count": 7
        }
      ]
    },
    {
      "cell_type": "code",
      "metadata": {
        "id": "qZTYt_sNZdIq",
        "outputId": "f1c5bb8b-0c3f-4f92-8430-9758ad74bce8",
        "colab": {
          "base_uri": "https://localhost:8080/",
          "height": 362
        }
      },
      "source": [
        "df[:]"
      ],
      "execution_count": null,
      "outputs": [
        {
          "output_type": "execute_result",
          "data": {
            "text/html": [
              "<div>\n",
              "<style scoped>\n",
              "    .dataframe tbody tr th:only-of-type {\n",
              "        vertical-align: middle;\n",
              "    }\n",
              "\n",
              "    .dataframe tbody tr th {\n",
              "        vertical-align: top;\n",
              "    }\n",
              "\n",
              "    .dataframe thead th {\n",
              "        text-align: right;\n",
              "    }\n",
              "</style>\n",
              "<table border=\"1\" class=\"dataframe\">\n",
              "  <thead>\n",
              "    <tr style=\"text-align: right;\">\n",
              "      <th></th>\n",
              "      <th>0</th>\n",
              "      <th>1</th>\n",
              "      <th>2</th>\n",
              "      <th>3</th>\n",
              "    </tr>\n",
              "  </thead>\n",
              "  <tbody>\n",
              "    <tr>\n",
              "      <th>0</th>\n",
              "      <td>-0.953957</td>\n",
              "      <td>-0.145949</td>\n",
              "      <td>2.145194</td>\n",
              "      <td>0.325197</td>\n",
              "    </tr>\n",
              "    <tr>\n",
              "      <th>1</th>\n",
              "      <td>1.766116</td>\n",
              "      <td>1.568794</td>\n",
              "      <td>0.665628</td>\n",
              "      <td>0.223393</td>\n",
              "    </tr>\n",
              "    <tr>\n",
              "      <th>2</th>\n",
              "      <td>-0.131197</td>\n",
              "      <td>-0.978466</td>\n",
              "      <td>-0.603898</td>\n",
              "      <td>0.344533</td>\n",
              "    </tr>\n",
              "    <tr>\n",
              "      <th>3</th>\n",
              "      <td>-0.502081</td>\n",
              "      <td>-0.016002</td>\n",
              "      <td>-1.080537</td>\n",
              "      <td>1.038217</td>\n",
              "    </tr>\n",
              "    <tr>\n",
              "      <th>4</th>\n",
              "      <td>0.551330</td>\n",
              "      <td>-1.430087</td>\n",
              "      <td>0.791471</td>\n",
              "      <td>-2.286282</td>\n",
              "    </tr>\n",
              "    <tr>\n",
              "      <th>5</th>\n",
              "      <td>0.711356</td>\n",
              "      <td>-0.664951</td>\n",
              "      <td>-1.121766</td>\n",
              "      <td>-0.122777</td>\n",
              "    </tr>\n",
              "    <tr>\n",
              "      <th>6</th>\n",
              "      <td>1.357047</td>\n",
              "      <td>0.591635</td>\n",
              "      <td>-0.487670</td>\n",
              "      <td>0.996917</td>\n",
              "    </tr>\n",
              "    <tr>\n",
              "      <th>7</th>\n",
              "      <td>-1.995902</td>\n",
              "      <td>1.229053</td>\n",
              "      <td>-0.245736</td>\n",
              "      <td>0.207742</td>\n",
              "    </tr>\n",
              "    <tr>\n",
              "      <th>8</th>\n",
              "      <td>-1.150965</td>\n",
              "      <td>3.133243</td>\n",
              "      <td>0.072859</td>\n",
              "      <td>1.473219</td>\n",
              "    </tr>\n",
              "    <tr>\n",
              "      <th>9</th>\n",
              "      <td>2.585600</td>\n",
              "      <td>0.756818</td>\n",
              "      <td>-0.848721</td>\n",
              "      <td>-0.860181</td>\n",
              "    </tr>\n",
              "  </tbody>\n",
              "</table>\n",
              "</div>"
            ],
            "text/plain": [
              "          0         1         2         3\n",
              "0 -0.953957 -0.145949  2.145194  0.325197\n",
              "1  1.766116  1.568794  0.665628  0.223393\n",
              "2 -0.131197 -0.978466 -0.603898  0.344533\n",
              "3 -0.502081 -0.016002 -1.080537  1.038217\n",
              "4  0.551330 -1.430087  0.791471 -2.286282\n",
              "5  0.711356 -0.664951 -1.121766 -0.122777\n",
              "6  1.357047  0.591635 -0.487670  0.996917\n",
              "7 -1.995902  1.229053 -0.245736  0.207742\n",
              "8 -1.150965  3.133243  0.072859  1.473219\n",
              "9  2.585600  0.756818 -0.848721 -0.860181"
            ]
          },
          "metadata": {
            "tags": []
          },
          "execution_count": 12
        }
      ]
    },
    {
      "cell_type": "code",
      "metadata": {
        "id": "PWG2zL7FZdFX"
      },
      "source": [
        "dates = pd.date_range('1/1/2000', periods=8)\n",
        "df = pd.DataFrame(np.random.randn(8, 4),index=dates, columns=['A', 'B', 'C', 'D'])"
      ],
      "execution_count": null,
      "outputs": []
    },
    {
      "cell_type": "code",
      "metadata": {
        "id": "XlnOWRLvflw6",
        "outputId": "a921e886-f4da-4df7-8b1f-abd4d4ddb9e5",
        "colab": {
          "base_uri": "https://localhost:8080/",
          "height": 300
        }
      },
      "source": [
        "df"
      ],
      "execution_count": null,
      "outputs": [
        {
          "output_type": "execute_result",
          "data": {
            "text/html": [
              "<div>\n",
              "<style scoped>\n",
              "    .dataframe tbody tr th:only-of-type {\n",
              "        vertical-align: middle;\n",
              "    }\n",
              "\n",
              "    .dataframe tbody tr th {\n",
              "        vertical-align: top;\n",
              "    }\n",
              "\n",
              "    .dataframe thead th {\n",
              "        text-align: right;\n",
              "    }\n",
              "</style>\n",
              "<table border=\"1\" class=\"dataframe\">\n",
              "  <thead>\n",
              "    <tr style=\"text-align: right;\">\n",
              "      <th></th>\n",
              "      <th>A</th>\n",
              "      <th>B</th>\n",
              "      <th>C</th>\n",
              "      <th>D</th>\n",
              "    </tr>\n",
              "  </thead>\n",
              "  <tbody>\n",
              "    <tr>\n",
              "      <th>2000-01-01</th>\n",
              "      <td>2.267193</td>\n",
              "      <td>1.925006</td>\n",
              "      <td>0.149171</td>\n",
              "      <td>-1.893652</td>\n",
              "    </tr>\n",
              "    <tr>\n",
              "      <th>2000-01-02</th>\n",
              "      <td>1.516211</td>\n",
              "      <td>-1.073621</td>\n",
              "      <td>-1.299932</td>\n",
              "      <td>1.461930</td>\n",
              "    </tr>\n",
              "    <tr>\n",
              "      <th>2000-01-03</th>\n",
              "      <td>-0.519746</td>\n",
              "      <td>-0.012736</td>\n",
              "      <td>0.535094</td>\n",
              "      <td>0.373058</td>\n",
              "    </tr>\n",
              "    <tr>\n",
              "      <th>2000-01-04</th>\n",
              "      <td>-0.783098</td>\n",
              "      <td>-0.333231</td>\n",
              "      <td>-0.742752</td>\n",
              "      <td>-0.143432</td>\n",
              "    </tr>\n",
              "    <tr>\n",
              "      <th>2000-01-05</th>\n",
              "      <td>0.712373</td>\n",
              "      <td>-1.091687</td>\n",
              "      <td>0.401944</td>\n",
              "      <td>0.344534</td>\n",
              "    </tr>\n",
              "    <tr>\n",
              "      <th>2000-01-06</th>\n",
              "      <td>-0.944119</td>\n",
              "      <td>-0.423561</td>\n",
              "      <td>-0.490234</td>\n",
              "      <td>1.581485</td>\n",
              "    </tr>\n",
              "    <tr>\n",
              "      <th>2000-01-07</th>\n",
              "      <td>1.960937</td>\n",
              "      <td>-0.130032</td>\n",
              "      <td>0.117467</td>\n",
              "      <td>-1.018090</td>\n",
              "    </tr>\n",
              "    <tr>\n",
              "      <th>2000-01-08</th>\n",
              "      <td>-0.544574</td>\n",
              "      <td>1.797448</td>\n",
              "      <td>-0.259759</td>\n",
              "      <td>-0.599212</td>\n",
              "    </tr>\n",
              "  </tbody>\n",
              "</table>\n",
              "</div>"
            ],
            "text/plain": [
              "                   A         B         C         D\n",
              "2000-01-01  2.267193  1.925006  0.149171 -1.893652\n",
              "2000-01-02  1.516211 -1.073621 -1.299932  1.461930\n",
              "2000-01-03 -0.519746 -0.012736  0.535094  0.373058\n",
              "2000-01-04 -0.783098 -0.333231 -0.742752 -0.143432\n",
              "2000-01-05  0.712373 -1.091687  0.401944  0.344534\n",
              "2000-01-06 -0.944119 -0.423561 -0.490234  1.581485\n",
              "2000-01-07  1.960937 -0.130032  0.117467 -1.018090\n",
              "2000-01-08 -0.544574  1.797448 -0.259759 -0.599212"
            ]
          },
          "metadata": {
            "tags": []
          },
          "execution_count": 17
        }
      ]
    },
    {
      "cell_type": "code",
      "metadata": {
        "id": "50jK_eVeflz5",
        "outputId": "00d48583-2fed-4464-a603-39fa38c60eff",
        "colab": {
          "base_uri": "https://localhost:8080/",
          "height": 34
        }
      },
      "source": [
        "type(df[['A']])"
      ],
      "execution_count": null,
      "outputs": [
        {
          "output_type": "execute_result",
          "data": {
            "text/plain": [
              "pandas.core.frame.DataFrame"
            ]
          },
          "metadata": {
            "tags": []
          },
          "execution_count": 20
        }
      ]
    },
    {
      "cell_type": "code",
      "metadata": {
        "id": "NYqoB11cfl3B",
        "outputId": "baf079f2-e6e0-4c30-890d-bc6348f536e0",
        "colab": {
          "base_uri": "https://localhost:8080/",
          "height": 300
        }
      },
      "source": [
        "df[['B', 'A']]"
      ],
      "execution_count": null,
      "outputs": [
        {
          "output_type": "execute_result",
          "data": {
            "text/html": [
              "<div>\n",
              "<style scoped>\n",
              "    .dataframe tbody tr th:only-of-type {\n",
              "        vertical-align: middle;\n",
              "    }\n",
              "\n",
              "    .dataframe tbody tr th {\n",
              "        vertical-align: top;\n",
              "    }\n",
              "\n",
              "    .dataframe thead th {\n",
              "        text-align: right;\n",
              "    }\n",
              "</style>\n",
              "<table border=\"1\" class=\"dataframe\">\n",
              "  <thead>\n",
              "    <tr style=\"text-align: right;\">\n",
              "      <th></th>\n",
              "      <th>B</th>\n",
              "      <th>A</th>\n",
              "    </tr>\n",
              "  </thead>\n",
              "  <tbody>\n",
              "    <tr>\n",
              "      <th>2000-01-01</th>\n",
              "      <td>1.925006</td>\n",
              "      <td>2.267193</td>\n",
              "    </tr>\n",
              "    <tr>\n",
              "      <th>2000-01-02</th>\n",
              "      <td>-1.073621</td>\n",
              "      <td>1.516211</td>\n",
              "    </tr>\n",
              "    <tr>\n",
              "      <th>2000-01-03</th>\n",
              "      <td>-0.012736</td>\n",
              "      <td>-0.519746</td>\n",
              "    </tr>\n",
              "    <tr>\n",
              "      <th>2000-01-04</th>\n",
              "      <td>-0.333231</td>\n",
              "      <td>-0.783098</td>\n",
              "    </tr>\n",
              "    <tr>\n",
              "      <th>2000-01-05</th>\n",
              "      <td>-1.091687</td>\n",
              "      <td>0.712373</td>\n",
              "    </tr>\n",
              "    <tr>\n",
              "      <th>2000-01-06</th>\n",
              "      <td>-0.423561</td>\n",
              "      <td>-0.944119</td>\n",
              "    </tr>\n",
              "    <tr>\n",
              "      <th>2000-01-07</th>\n",
              "      <td>-0.130032</td>\n",
              "      <td>1.960937</td>\n",
              "    </tr>\n",
              "    <tr>\n",
              "      <th>2000-01-08</th>\n",
              "      <td>1.797448</td>\n",
              "      <td>-0.544574</td>\n",
              "    </tr>\n",
              "  </tbody>\n",
              "</table>\n",
              "</div>"
            ],
            "text/plain": [
              "                   B         A\n",
              "2000-01-01  1.925006  2.267193\n",
              "2000-01-02 -1.073621  1.516211\n",
              "2000-01-03 -0.012736 -0.519746\n",
              "2000-01-04 -0.333231 -0.783098\n",
              "2000-01-05 -1.091687  0.712373\n",
              "2000-01-06 -0.423561 -0.944119\n",
              "2000-01-07 -0.130032  1.960937\n",
              "2000-01-08  1.797448 -0.544574"
            ]
          },
          "metadata": {
            "tags": []
          },
          "execution_count": 24
        }
      ]
    },
    {
      "cell_type": "code",
      "metadata": {
        "id": "SE25QFGRhr-r",
        "outputId": "26b226a1-e8bd-4fee-d868-736a2b792ec8",
        "colab": {
          "base_uri": "https://localhost:8080/",
          "height": 300
        }
      },
      "source": [
        "df['E'] = [1,2,3,4,5,6,7,8]\n",
        "df"
      ],
      "execution_count": null,
      "outputs": [
        {
          "output_type": "execute_result",
          "data": {
            "text/html": [
              "<div>\n",
              "<style scoped>\n",
              "    .dataframe tbody tr th:only-of-type {\n",
              "        vertical-align: middle;\n",
              "    }\n",
              "\n",
              "    .dataframe tbody tr th {\n",
              "        vertical-align: top;\n",
              "    }\n",
              "\n",
              "    .dataframe thead th {\n",
              "        text-align: right;\n",
              "    }\n",
              "</style>\n",
              "<table border=\"1\" class=\"dataframe\">\n",
              "  <thead>\n",
              "    <tr style=\"text-align: right;\">\n",
              "      <th></th>\n",
              "      <th>A</th>\n",
              "      <th>B</th>\n",
              "      <th>C</th>\n",
              "      <th>D</th>\n",
              "      <th>E</th>\n",
              "    </tr>\n",
              "  </thead>\n",
              "  <tbody>\n",
              "    <tr>\n",
              "      <th>2000-01-01</th>\n",
              "      <td>2.267193</td>\n",
              "      <td>1.925006</td>\n",
              "      <td>0.149171</td>\n",
              "      <td>-1.893652</td>\n",
              "      <td>1</td>\n",
              "    </tr>\n",
              "    <tr>\n",
              "      <th>2000-01-02</th>\n",
              "      <td>1.516211</td>\n",
              "      <td>-1.073621</td>\n",
              "      <td>-1.299932</td>\n",
              "      <td>1.461930</td>\n",
              "      <td>2</td>\n",
              "    </tr>\n",
              "    <tr>\n",
              "      <th>2000-01-03</th>\n",
              "      <td>-0.519746</td>\n",
              "      <td>-0.012736</td>\n",
              "      <td>0.535094</td>\n",
              "      <td>0.373058</td>\n",
              "      <td>3</td>\n",
              "    </tr>\n",
              "    <tr>\n",
              "      <th>2000-01-04</th>\n",
              "      <td>-0.783098</td>\n",
              "      <td>-0.333231</td>\n",
              "      <td>-0.742752</td>\n",
              "      <td>-0.143432</td>\n",
              "      <td>4</td>\n",
              "    </tr>\n",
              "    <tr>\n",
              "      <th>2000-01-05</th>\n",
              "      <td>0.712373</td>\n",
              "      <td>-1.091687</td>\n",
              "      <td>0.401944</td>\n",
              "      <td>0.344534</td>\n",
              "      <td>5</td>\n",
              "    </tr>\n",
              "    <tr>\n",
              "      <th>2000-01-06</th>\n",
              "      <td>-0.944119</td>\n",
              "      <td>-0.423561</td>\n",
              "      <td>-0.490234</td>\n",
              "      <td>1.581485</td>\n",
              "      <td>6</td>\n",
              "    </tr>\n",
              "    <tr>\n",
              "      <th>2000-01-07</th>\n",
              "      <td>1.960937</td>\n",
              "      <td>-0.130032</td>\n",
              "      <td>0.117467</td>\n",
              "      <td>-1.018090</td>\n",
              "      <td>7</td>\n",
              "    </tr>\n",
              "    <tr>\n",
              "      <th>2000-01-08</th>\n",
              "      <td>-0.544574</td>\n",
              "      <td>1.797448</td>\n",
              "      <td>-0.259759</td>\n",
              "      <td>-0.599212</td>\n",
              "      <td>8</td>\n",
              "    </tr>\n",
              "  </tbody>\n",
              "</table>\n",
              "</div>"
            ],
            "text/plain": [
              "                   A         B         C         D  E\n",
              "2000-01-01  2.267193  1.925006  0.149171 -1.893652  1\n",
              "2000-01-02  1.516211 -1.073621 -1.299932  1.461930  2\n",
              "2000-01-03 -0.519746 -0.012736  0.535094  0.373058  3\n",
              "2000-01-04 -0.783098 -0.333231 -0.742752 -0.143432  4\n",
              "2000-01-05  0.712373 -1.091687  0.401944  0.344534  5\n",
              "2000-01-06 -0.944119 -0.423561 -0.490234  1.581485  6\n",
              "2000-01-07  1.960937 -0.130032  0.117467 -1.018090  7\n",
              "2000-01-08 -0.544574  1.797448 -0.259759 -0.599212  8"
            ]
          },
          "metadata": {
            "tags": []
          },
          "execution_count": 27
        }
      ]
    },
    {
      "cell_type": "code",
      "metadata": {
        "id": "v8no2GhNhsBS",
        "outputId": "9a19080f-84ae-4871-d1ef-64c1d5d876f3",
        "colab": {
          "base_uri": "https://localhost:8080/",
          "height": 34
        }
      },
      "source": [
        "type(df.loc['2000-01-01':'2000-01-04'])"
      ],
      "execution_count": null,
      "outputs": [
        {
          "output_type": "execute_result",
          "data": {
            "text/plain": [
              "pandas.core.frame.DataFrame"
            ]
          },
          "metadata": {
            "tags": []
          },
          "execution_count": 39
        }
      ]
    },
    {
      "cell_type": "code",
      "metadata": {
        "id": "FCeNB5vxhsDt",
        "outputId": "7d129030-3faf-47c8-a33c-ab64cd7119ca",
        "colab": {
          "base_uri": "https://localhost:8080/",
          "height": 174
        }
      },
      "source": [
        "df.loc['2000-01-01':'2000-01-04']"
      ],
      "execution_count": null,
      "outputs": [
        {
          "output_type": "execute_result",
          "data": {
            "text/html": [
              "<div>\n",
              "<style scoped>\n",
              "    .dataframe tbody tr th:only-of-type {\n",
              "        vertical-align: middle;\n",
              "    }\n",
              "\n",
              "    .dataframe tbody tr th {\n",
              "        vertical-align: top;\n",
              "    }\n",
              "\n",
              "    .dataframe thead th {\n",
              "        text-align: right;\n",
              "    }\n",
              "</style>\n",
              "<table border=\"1\" class=\"dataframe\">\n",
              "  <thead>\n",
              "    <tr style=\"text-align: right;\">\n",
              "      <th></th>\n",
              "      <th>A</th>\n",
              "      <th>B</th>\n",
              "      <th>C</th>\n",
              "      <th>D</th>\n",
              "      <th>E</th>\n",
              "    </tr>\n",
              "  </thead>\n",
              "  <tbody>\n",
              "    <tr>\n",
              "      <th>2000-01-01</th>\n",
              "      <td>2.267193</td>\n",
              "      <td>1.925006</td>\n",
              "      <td>0.149171</td>\n",
              "      <td>-1.893652</td>\n",
              "      <td>1</td>\n",
              "    </tr>\n",
              "    <tr>\n",
              "      <th>2000-01-02</th>\n",
              "      <td>1.516211</td>\n",
              "      <td>-1.073621</td>\n",
              "      <td>-1.299932</td>\n",
              "      <td>1.461930</td>\n",
              "      <td>2</td>\n",
              "    </tr>\n",
              "    <tr>\n",
              "      <th>2000-01-03</th>\n",
              "      <td>-0.519746</td>\n",
              "      <td>-0.012736</td>\n",
              "      <td>0.535094</td>\n",
              "      <td>0.373058</td>\n",
              "      <td>3</td>\n",
              "    </tr>\n",
              "    <tr>\n",
              "      <th>2000-01-04</th>\n",
              "      <td>-0.783098</td>\n",
              "      <td>-0.333231</td>\n",
              "      <td>-0.742752</td>\n",
              "      <td>-0.143432</td>\n",
              "      <td>4</td>\n",
              "    </tr>\n",
              "  </tbody>\n",
              "</table>\n",
              "</div>"
            ],
            "text/plain": [
              "                   A         B         C         D  E\n",
              "2000-01-01  2.267193  1.925006  0.149171 -1.893652  1\n",
              "2000-01-02  1.516211 -1.073621 -1.299932  1.461930  2\n",
              "2000-01-03 -0.519746 -0.012736  0.535094  0.373058  3\n",
              "2000-01-04 -0.783098 -0.333231 -0.742752 -0.143432  4"
            ]
          },
          "metadata": {
            "tags": []
          },
          "execution_count": 40
        }
      ]
    },
    {
      "cell_type": "code",
      "metadata": {
        "id": "XxMSSyEZhsGD",
        "outputId": "fd08df73-e86c-482e-9014-5b6981658ab9",
        "colab": {
          "base_uri": "https://localhost:8080/",
          "height": 174
        }
      },
      "source": [
        "df.loc['2000-01-01':'2000-01-04', 'A':'C']"
      ],
      "execution_count": null,
      "outputs": [
        {
          "output_type": "execute_result",
          "data": {
            "text/html": [
              "<div>\n",
              "<style scoped>\n",
              "    .dataframe tbody tr th:only-of-type {\n",
              "        vertical-align: middle;\n",
              "    }\n",
              "\n",
              "    .dataframe tbody tr th {\n",
              "        vertical-align: top;\n",
              "    }\n",
              "\n",
              "    .dataframe thead th {\n",
              "        text-align: right;\n",
              "    }\n",
              "</style>\n",
              "<table border=\"1\" class=\"dataframe\">\n",
              "  <thead>\n",
              "    <tr style=\"text-align: right;\">\n",
              "      <th></th>\n",
              "      <th>A</th>\n",
              "      <th>B</th>\n",
              "      <th>C</th>\n",
              "    </tr>\n",
              "  </thead>\n",
              "  <tbody>\n",
              "    <tr>\n",
              "      <th>2000-01-01</th>\n",
              "      <td>2.267193</td>\n",
              "      <td>1.925006</td>\n",
              "      <td>0.149171</td>\n",
              "    </tr>\n",
              "    <tr>\n",
              "      <th>2000-01-02</th>\n",
              "      <td>1.516211</td>\n",
              "      <td>-1.073621</td>\n",
              "      <td>-1.299932</td>\n",
              "    </tr>\n",
              "    <tr>\n",
              "      <th>2000-01-03</th>\n",
              "      <td>-0.519746</td>\n",
              "      <td>-0.012736</td>\n",
              "      <td>0.535094</td>\n",
              "    </tr>\n",
              "    <tr>\n",
              "      <th>2000-01-04</th>\n",
              "      <td>-0.783098</td>\n",
              "      <td>-0.333231</td>\n",
              "      <td>-0.742752</td>\n",
              "    </tr>\n",
              "  </tbody>\n",
              "</table>\n",
              "</div>"
            ],
            "text/plain": [
              "                   A         B         C\n",
              "2000-01-01  2.267193  1.925006  0.149171\n",
              "2000-01-02  1.516211 -1.073621 -1.299932\n",
              "2000-01-03 -0.519746 -0.012736  0.535094\n",
              "2000-01-04 -0.783098 -0.333231 -0.742752"
            ]
          },
          "metadata": {
            "tags": []
          },
          "execution_count": 43
        }
      ]
    },
    {
      "cell_type": "code",
      "metadata": {
        "id": "vLgDXooQhsIY"
      },
      "source": [
        ""
      ],
      "execution_count": null,
      "outputs": []
    },
    {
      "cell_type": "code",
      "metadata": {
        "id": "_L5YDwhZhsMD"
      },
      "source": [
        ""
      ],
      "execution_count": null,
      "outputs": []
    },
    {
      "cell_type": "code",
      "metadata": {
        "id": "xcnqGDLDfl6t",
        "outputId": "647a357b-5800-4df4-e390-7400fd76efa2",
        "colab": {
          "base_uri": "https://localhost:8080/",
          "height": 173
        }
      },
      "source": [
        "df['A']"
      ],
      "execution_count": null,
      "outputs": [
        {
          "output_type": "execute_result",
          "data": {
            "text/plain": [
              "2000-01-01    2.267193\n",
              "2000-01-02    1.516211\n",
              "2000-01-03   -0.519746\n",
              "2000-01-04   -0.783098\n",
              "2000-01-05    0.712373\n",
              "2000-01-06   -0.944119\n",
              "2000-01-07    1.960937\n",
              "2000-01-08   -0.544574\n",
              "Freq: D, Name: A, dtype: float64"
            ]
          },
          "metadata": {
            "tags": []
          },
          "execution_count": 22
        }
      ]
    }
  ]
}